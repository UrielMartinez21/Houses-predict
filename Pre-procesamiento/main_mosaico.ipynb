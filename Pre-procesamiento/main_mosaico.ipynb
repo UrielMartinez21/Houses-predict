{
 "cells": [
  {
   "cell_type": "markdown",
   "metadata": {},
   "source": [
    "## Convertir texto a Dataframe    "
   ]
  },
  {
   "cell_type": "code",
   "execution_count": 1,
   "metadata": {},
   "outputs": [
    {
     "data": {
      "text/html": [
       "<div>\n",
       "<style scoped>\n",
       "    .dataframe tbody tr th:only-of-type {\n",
       "        vertical-align: middle;\n",
       "    }\n",
       "\n",
       "    .dataframe tbody tr th {\n",
       "        vertical-align: top;\n",
       "    }\n",
       "\n",
       "    .dataframe thead th {\n",
       "        text-align: right;\n",
       "    }\n",
       "</style>\n",
       "<table border=\"1\" class=\"dataframe\">\n",
       "  <thead>\n",
       "    <tr style=\"text-align: right;\">\n",
       "      <th></th>\n",
       "      <th>bedrooms</th>\n",
       "      <th>bathrooms</th>\n",
       "      <th>area</th>\n",
       "      <th>zipcode</th>\n",
       "      <th>price</th>\n",
       "    </tr>\n",
       "  </thead>\n",
       "  <tbody>\n",
       "    <tr>\n",
       "      <th>0</th>\n",
       "      <td>4</td>\n",
       "      <td>4</td>\n",
       "      <td>4053</td>\n",
       "      <td>85255</td>\n",
       "      <td>869500</td>\n",
       "    </tr>\n",
       "    <tr>\n",
       "      <th>1</th>\n",
       "      <td>4</td>\n",
       "      <td>3</td>\n",
       "      <td>3343</td>\n",
       "      <td>36372</td>\n",
       "      <td>865200</td>\n",
       "    </tr>\n",
       "    <tr>\n",
       "      <th>2</th>\n",
       "      <td>3</td>\n",
       "      <td>4</td>\n",
       "      <td>3923</td>\n",
       "      <td>85266</td>\n",
       "      <td>889000</td>\n",
       "    </tr>\n",
       "    <tr>\n",
       "      <th>3</th>\n",
       "      <td>5</td>\n",
       "      <td>5</td>\n",
       "      <td>4022</td>\n",
       "      <td>85262</td>\n",
       "      <td>910000</td>\n",
       "    </tr>\n",
       "    <tr>\n",
       "      <th>4</th>\n",
       "      <td>3</td>\n",
       "      <td>4</td>\n",
       "      <td>4116</td>\n",
       "      <td>85266</td>\n",
       "      <td>971226</td>\n",
       "    </tr>\n",
       "  </tbody>\n",
       "</table>\n",
       "</div>"
      ],
      "text/plain": [
       "  bedrooms bathrooms  area zipcode   price\n",
       "0        4         4  4053   85255  869500\n",
       "1        4         3  3343   36372  865200\n",
       "2        3         4  3923   85266  889000\n",
       "3        5         5  4022   85262  910000\n",
       "4        3         4  4116   85266  971226"
      ]
     },
     "execution_count": 1,
     "metadata": {},
     "output_type": "execute_result"
    }
   ],
   "source": [
    "import pandas as pd\n",
    "\n",
    "# Abrir el archivo de texto y leer las líneas\n",
    "with open('../Dataset/Houses-dataset/Houses Dataset/HousesInfo.txt') as texto:\n",
    "    contenido = texto.readlines()\n",
    "\n",
    "# Crear una lista para almacenar los datos\n",
    "datos_fila = [linea.split() for linea in contenido]\n",
    "\n",
    "# Crear el DataFrame a partir de la lista\n",
    "df = pd.DataFrame(datos_fila, columns=['bedrooms', 'bathrooms', 'area', 'zipcode', 'price'])\n",
    "\n",
    "# Imprimir el DataFrame\n",
    "df.head()\n"
   ]
  },
  {
   "cell_type": "markdown",
   "metadata": {},
   "source": [
    "## Agregar columna mosaico"
   ]
  },
  {
   "cell_type": "code",
   "execution_count": 2,
   "metadata": {},
   "outputs": [],
   "source": [
    "import os\n",
    "\n",
    "# Filtrar archivos con extensión .jpg\n",
    "imagenes = [archivo for archivo in os.listdir('../Dataset/Houses-dataset/Houses Dataset/') if archivo.endswith('.jpg')]\n",
    "\n",
    "# Filtrar archivos por tipo\n",
    "bathrooms = [imagen for imagen in imagenes if imagen.endswith('bathroom.jpg')]\n",
    "bedrooms = [imagen for imagen in imagenes if imagen.endswith('bedroom.jpg')]\n",
    "kitchens = [imagen for imagen in imagenes if imagen.endswith('kitchen.jpg')]\n",
    "frontals = [imagen for imagen in imagenes if imagen.endswith('frontal.jpg')]\n",
    "\n",
    "# Ordenar las listas\n",
    "bathrooms = sorted(bathrooms, key=lambda x: int(x.split('_')[0]))\n",
    "bedrooms = sorted(bedrooms, key=lambda x: int(x.split('_')[0]))\n",
    "kitchens = sorted(kitchens, key=lambda x: int(x.split('_')[0]))\n",
    "frontals = sorted(frontals, key=lambda x: int(x.split('_')[0]))\n"
   ]
  },
  {
   "cell_type": "code",
   "execution_count": 9,
   "metadata": {},
   "outputs": [],
   "source": [
    "# Unir las 4 imagenes para crear una imagen mosaico\n",
    "from PIL import Image\n",
    "\n",
    "# Crear una lista para almacenar las imágenes\n",
    "mosaicos = []\n",
    "\n",
    "# Iterar sobre las listas de imágenes\n",
    "for i in range(len(bathrooms)):\n",
    "    # Abrir las imágenes\n",
    "    img1 = Image.open(f'../Dataset/Houses-dataset/Houses Dataset/{bathrooms[i]}')\n",
    "    img2 = Image.open(f'../Dataset/Houses-dataset/Houses Dataset/{bedrooms[i]}')\n",
    "    img3 = Image.open(f'../Dataset/Houses-dataset/Houses Dataset/{kitchens[i]}')\n",
    "    img4 = Image.open(f'../Dataset/Houses-dataset/Houses Dataset/{frontals[i]}')\n",
    "\n",
    "    # Redimensionar las imágenes a 112 x 112\n",
    "    img1 = img1.resize((112, 122))\n",
    "    img2 = img2.resize((112, 122))\n",
    "    img3 = img3.resize((112, 122))\n",
    "    img4 = img4.resize((112, 122))\n",
    "\n",
    "    # Crear una imagen mosaico\n",
    "    # baño superior izquierda, habitación superior derecha, cocina inferior izquierda, frontal inferior derecha\n",
    "    mosaico = Image.new('RGB', (224, 244))\n",
    "    mosaico.paste(img1, (0, 0))\n",
    "    mosaico.paste(img2, (112, 0))\n",
    "    mosaico.paste(img3, (0, 122))\n",
    "    mosaico.paste(img4, (112, 122))\n",
    "\n",
    "    # Renombrar la imagen mosaico\n",
    "    mosaico.save(f'../Dataset/Mosaico/Imagenes/{i}.png')\n",
    "\n",
    "    # Agregar la imagen mosaico a la lista\n",
    "    mosaicos.append(f\"{i}.png\")\n"
   ]
  },
  {
   "cell_type": "code",
   "execution_count": 12,
   "metadata": {},
   "outputs": [
    {
     "data": {
      "text/html": [
       "<div>\n",
       "<style scoped>\n",
       "    .dataframe tbody tr th:only-of-type {\n",
       "        vertical-align: middle;\n",
       "    }\n",
       "\n",
       "    .dataframe tbody tr th {\n",
       "        vertical-align: top;\n",
       "    }\n",
       "\n",
       "    .dataframe thead th {\n",
       "        text-align: right;\n",
       "    }\n",
       "</style>\n",
       "<table border=\"1\" class=\"dataframe\">\n",
       "  <thead>\n",
       "    <tr style=\"text-align: right;\">\n",
       "      <th></th>\n",
       "      <th>bedrooms</th>\n",
       "      <th>bathrooms</th>\n",
       "      <th>area</th>\n",
       "      <th>zipcode</th>\n",
       "      <th>mosaic_image</th>\n",
       "      <th>price</th>\n",
       "    </tr>\n",
       "  </thead>\n",
       "  <tbody>\n",
       "    <tr>\n",
       "      <th>0</th>\n",
       "      <td>4</td>\n",
       "      <td>4</td>\n",
       "      <td>4053</td>\n",
       "      <td>85255</td>\n",
       "      <td>0.png</td>\n",
       "      <td>869500</td>\n",
       "    </tr>\n",
       "    <tr>\n",
       "      <th>1</th>\n",
       "      <td>4</td>\n",
       "      <td>3</td>\n",
       "      <td>3343</td>\n",
       "      <td>36372</td>\n",
       "      <td>1.png</td>\n",
       "      <td>865200</td>\n",
       "    </tr>\n",
       "    <tr>\n",
       "      <th>2</th>\n",
       "      <td>3</td>\n",
       "      <td>4</td>\n",
       "      <td>3923</td>\n",
       "      <td>85266</td>\n",
       "      <td>2.png</td>\n",
       "      <td>889000</td>\n",
       "    </tr>\n",
       "    <tr>\n",
       "      <th>3</th>\n",
       "      <td>5</td>\n",
       "      <td>5</td>\n",
       "      <td>4022</td>\n",
       "      <td>85262</td>\n",
       "      <td>3.png</td>\n",
       "      <td>910000</td>\n",
       "    </tr>\n",
       "    <tr>\n",
       "      <th>4</th>\n",
       "      <td>3</td>\n",
       "      <td>4</td>\n",
       "      <td>4116</td>\n",
       "      <td>85266</td>\n",
       "      <td>4.png</td>\n",
       "      <td>971226</td>\n",
       "    </tr>\n",
       "  </tbody>\n",
       "</table>\n",
       "</div>"
      ],
      "text/plain": [
       "  bedrooms bathrooms  area zipcode mosaic_image   price\n",
       "0        4         4  4053   85255        0.png  869500\n",
       "1        4         3  3343   36372        1.png  865200\n",
       "2        3         4  3923   85266        2.png  889000\n",
       "3        5         5  4022   85262        3.png  910000\n",
       "4        3         4  4116   85266        4.png  971226"
      ]
     },
     "execution_count": 12,
     "metadata": {},
     "output_type": "execute_result"
    }
   ],
   "source": [
    "# Agregar la columna de imágenes mosaico al DataFrame\n",
    "df['mosaic_image'] = mosaicos\n",
    "\n",
    "# Ordenar columnas del DataFrame\n",
    "df = df[['bedrooms', 'bathrooms', 'area', 'zipcode', 'mosaic_image', 'price']]\n",
    "\n",
    "# Imprimir el DataFrame\n",
    "df.head()"
   ]
  },
  {
   "cell_type": "markdown",
   "metadata": {},
   "source": [
    "## Crear dataset de entrenamiento y prueba"
   ]
  },
  {
   "cell_type": "code",
   "execution_count": 13,
   "metadata": {},
   "outputs": [
    {
     "name": "stdout",
     "output_type": "stream",
     "text": [
      "Train: (428, 6)\n",
      "Test: (107, 6)\n"
     ]
    }
   ],
   "source": [
    "from sklearn.model_selection import train_test_split\n",
    "\n",
    "# --> Dividir dataset\n",
    "X_train, X_test, y_train, y_test = train_test_split(df[['bathrooms','bedrooms','area','zipcode', 'mosaic_image']], df['price'], test_size=0.2, random_state=42)\n",
    "\n",
    "# --> Juntar X_train e y_train\n",
    "train = pd.concat([X_train, y_train], axis=1)\n",
    "\n",
    "# --> Juntar X_test e y_test\n",
    "test = pd.concat([X_test, y_test], axis=1)\n",
    "\n",
    "# Tamños de los datasets\n",
    "print(f\"Train: {train.shape}\")\n",
    "print(f\"Test: {test.shape}\")\n"
   ]
  },
  {
   "cell_type": "markdown",
   "metadata": {},
   "source": [
    "## Ver datos"
   ]
  },
  {
   "cell_type": "code",
   "execution_count": 14,
   "metadata": {},
   "outputs": [
    {
     "data": {
      "text/html": [
       "<div>\n",
       "<style scoped>\n",
       "    .dataframe tbody tr th:only-of-type {\n",
       "        vertical-align: middle;\n",
       "    }\n",
       "\n",
       "    .dataframe tbody tr th {\n",
       "        vertical-align: top;\n",
       "    }\n",
       "\n",
       "    .dataframe thead th {\n",
       "        text-align: right;\n",
       "    }\n",
       "</style>\n",
       "<table border=\"1\" class=\"dataframe\">\n",
       "  <thead>\n",
       "    <tr style=\"text-align: right;\">\n",
       "      <th></th>\n",
       "      <th>bathrooms</th>\n",
       "      <th>bedrooms</th>\n",
       "      <th>area</th>\n",
       "      <th>zipcode</th>\n",
       "      <th>mosaic_image</th>\n",
       "      <th>price</th>\n",
       "    </tr>\n",
       "  </thead>\n",
       "  <tbody>\n",
       "    <tr>\n",
       "      <th>284</th>\n",
       "      <td>5</td>\n",
       "      <td>5</td>\n",
       "      <td>3816</td>\n",
       "      <td>92880</td>\n",
       "      <td>284.png</td>\n",
       "      <td>589900</td>\n",
       "    </tr>\n",
       "    <tr>\n",
       "      <th>347</th>\n",
       "      <td>2</td>\n",
       "      <td>2</td>\n",
       "      <td>1440</td>\n",
       "      <td>92276</td>\n",
       "      <td>347.png</td>\n",
       "      <td>106000</td>\n",
       "    </tr>\n",
       "    <tr>\n",
       "      <th>440</th>\n",
       "      <td>3</td>\n",
       "      <td>4</td>\n",
       "      <td>1625</td>\n",
       "      <td>93510</td>\n",
       "      <td>440.png</td>\n",
       "      <td>639000</td>\n",
       "    </tr>\n",
       "    <tr>\n",
       "      <th>421</th>\n",
       "      <td>3</td>\n",
       "      <td>4</td>\n",
       "      <td>2454</td>\n",
       "      <td>93510</td>\n",
       "      <td>421.png</td>\n",
       "      <td>5858000</td>\n",
       "    </tr>\n",
       "    <tr>\n",
       "      <th>149</th>\n",
       "      <td>4.5</td>\n",
       "      <td>4</td>\n",
       "      <td>4038</td>\n",
       "      <td>92677</td>\n",
       "      <td>149.png</td>\n",
       "      <td>1795000</td>\n",
       "    </tr>\n",
       "  </tbody>\n",
       "</table>\n",
       "</div>"
      ],
      "text/plain": [
       "    bathrooms bedrooms  area zipcode mosaic_image    price\n",
       "284         5        5  3816   92880      284.png   589900\n",
       "347         2        2  1440   92276      347.png   106000\n",
       "440         3        4  1625   93510      440.png   639000\n",
       "421         3        4  2454   93510      421.png  5858000\n",
       "149       4.5        4  4038   92677      149.png  1795000"
      ]
     },
     "execution_count": 14,
     "metadata": {},
     "output_type": "execute_result"
    }
   ],
   "source": [
    "train.head()"
   ]
  },
  {
   "cell_type": "markdown",
   "metadata": {},
   "source": [
    "## Exportar datos"
   ]
  },
  {
   "cell_type": "code",
   "execution_count": 15,
   "metadata": {},
   "outputs": [],
   "source": [
    "df.to_csv('../Dataset/Mosaico/dataset.csv', index=False)\n",
    "\n",
    "train.to_csv('../Dataset/Mosaico/train.csv', index=False)\n",
    "test.to_csv('../Dataset/Mosaico/test.csv', index=False)"
   ]
  }
 ],
 "metadata": {
  "kernelspec": {
   "display_name": "Python 3",
   "language": "python",
   "name": "python3"
  },
  "language_info": {
   "codemirror_mode": {
    "name": "ipython",
    "version": 3
   },
   "file_extension": ".py",
   "mimetype": "text/x-python",
   "name": "python",
   "nbconvert_exporter": "python",
   "pygments_lexer": "ipython3",
   "version": "3.11.8"
  }
 },
 "nbformat": 4,
 "nbformat_minor": 2
}
