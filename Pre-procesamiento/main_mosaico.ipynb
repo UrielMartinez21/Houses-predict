{
 "cells": [
  {
   "cell_type": "markdown",
   "metadata": {},
   "source": [
    "## Convertir texto a Dataframe    "
   ]
  },
  {
   "cell_type": "code",
   "execution_count": 1,
   "metadata": {},
   "outputs": [
    {
     "data": {
      "text/html": [
       "<div>\n",
       "<style scoped>\n",
       "    .dataframe tbody tr th:only-of-type {\n",
       "        vertical-align: middle;\n",
       "    }\n",
       "\n",
       "    .dataframe tbody tr th {\n",
       "        vertical-align: top;\n",
       "    }\n",
       "\n",
       "    .dataframe thead th {\n",
       "        text-align: right;\n",
       "    }\n",
       "</style>\n",
       "<table border=\"1\" class=\"dataframe\">\n",
       "  <thead>\n",
       "    <tr style=\"text-align: right;\">\n",
       "      <th></th>\n",
       "      <th>bedrooms</th>\n",
       "      <th>bathrooms</th>\n",
       "      <th>area</th>\n",
       "      <th>zipcode</th>\n",
       "      <th>price</th>\n",
       "    </tr>\n",
       "  </thead>\n",
       "  <tbody>\n",
       "    <tr>\n",
       "      <th>0</th>\n",
       "      <td>4</td>\n",
       "      <td>4</td>\n",
       "      <td>4053</td>\n",
       "      <td>85255</td>\n",
       "      <td>869500</td>\n",
       "    </tr>\n",
       "    <tr>\n",
       "      <th>1</th>\n",
       "      <td>4</td>\n",
       "      <td>3</td>\n",
       "      <td>3343</td>\n",
       "      <td>36372</td>\n",
       "      <td>865200</td>\n",
       "    </tr>\n",
       "    <tr>\n",
       "      <th>2</th>\n",
       "      <td>3</td>\n",
       "      <td>4</td>\n",
       "      <td>3923</td>\n",
       "      <td>85266</td>\n",
       "      <td>889000</td>\n",
       "    </tr>\n",
       "    <tr>\n",
       "      <th>3</th>\n",
       "      <td>5</td>\n",
       "      <td>5</td>\n",
       "      <td>4022</td>\n",
       "      <td>85262</td>\n",
       "      <td>910000</td>\n",
       "    </tr>\n",
       "    <tr>\n",
       "      <th>4</th>\n",
       "      <td>3</td>\n",
       "      <td>4</td>\n",
       "      <td>4116</td>\n",
       "      <td>85266</td>\n",
       "      <td>971226</td>\n",
       "    </tr>\n",
       "  </tbody>\n",
       "</table>\n",
       "</div>"
      ],
      "text/plain": [
       "  bedrooms bathrooms  area zipcode   price\n",
       "0        4         4  4053   85255  869500\n",
       "1        4         3  3343   36372  865200\n",
       "2        3         4  3923   85266  889000\n",
       "3        5         5  4022   85262  910000\n",
       "4        3         4  4116   85266  971226"
      ]
     },
     "execution_count": 1,
     "metadata": {},
     "output_type": "execute_result"
    }
   ],
   "source": [
    "import pandas as pd\n",
    "\n",
    "# Abrir el archivo de texto y leer las líneas\n",
    "with open('../Dataset/Houses-dataset/Houses Dataset/HousesInfo.txt') as texto:\n",
    "    contenido = texto.readlines()\n",
    "\n",
    "# Crear una lista para almacenar los datos\n",
    "datos_fila = [linea.split() for linea in contenido]\n",
    "\n",
    "# Crear el DataFrame a partir de la lista\n",
    "df = pd.DataFrame(datos_fila, columns=['bedrooms', 'bathrooms', 'area', 'zipcode', 'price'])\n",
    "\n",
    "# Imprimir el DataFrame\n",
    "df.head()\n"
   ]
  },
  {
   "cell_type": "markdown",
   "metadata": {},
   "source": [
    "## Agregar columna mosaico"
   ]
  },
  {
   "cell_type": "code",
   "execution_count": 2,
   "metadata": {},
   "outputs": [],
   "source": [
    "import os\n",
    "\n",
    "# Filtrar archivos con extensión .jpg\n",
    "imagenes = [archivo for archivo in os.listdir('../Dataset/Houses-dataset/Houses Dataset/') if archivo.endswith('.jpg')]\n",
    "\n",
    "# Filtrar archivos por tipo\n",
    "bathrooms = [imagen for imagen in imagenes if imagen.endswith('bathroom.jpg')]\n",
    "bedrooms = [imagen for imagen in imagenes if imagen.endswith('bedroom.jpg')]\n",
    "kitchens = [imagen for imagen in imagenes if imagen.endswith('kitchen.jpg')]\n",
    "frontals = [imagen for imagen in imagenes if imagen.endswith('frontal.jpg')]\n",
    "\n",
    "# Ordenar las listas\n",
    "bathrooms = sorted(bathrooms, key=lambda x: int(x.split('_')[0]))\n",
    "bedrooms = sorted(bedrooms, key=lambda x: int(x.split('_')[0]))\n",
    "kitchens = sorted(kitchens, key=lambda x: int(x.split('_')[0]))\n",
    "frontals = sorted(frontals, key=lambda x: int(x.split('_')[0]))\n"
   ]
  },
  {
   "cell_type": "code",
   "execution_count": 3,
   "metadata": {},
   "outputs": [],
   "source": [
    "# Unir las 4 imagenes para crear una imagen mosaico\n",
    "from PIL import Image\n",
    "\n",
    "# Crear una lista para almacenar las imágenes\n",
    "mosaicos = []\n",
    "\n",
    "# Iterar sobre las listas de imágenes\n",
    "for i in range(len(bathrooms)):\n",
    "    # Abrir las imágenes\n",
    "    img1 = Image.open(f'../Dataset/Houses-dataset/Houses Dataset/{bathrooms[i]}')\n",
    "    img2 = Image.open(f'../Dataset/Houses-dataset/Houses Dataset/{bedrooms[i]}')\n",
    "    img3 = Image.open(f'../Dataset/Houses-dataset/Houses Dataset/{kitchens[i]}')\n",
    "    img4 = Image.open(f'../Dataset/Houses-dataset/Houses Dataset/{frontals[i]}')\n",
    "\n",
    "    # Redimensionar las imágenes a 112 x 112\n",
    "    img1 = img1.resize((256, 256))\n",
    "    img2 = img2.resize((256, 256))\n",
    "    img3 = img3.resize((256, 256))\n",
    "    img4 = img4.resize((256, 256))\n",
    "\n",
    "    # Crear una imagen mosaico\n",
    "    # baño superior izquierda, habitación superior derecha, cocina inferior izquierda, frontal inferior derecha\n",
    "    mosaico = Image.new('RGB', (512, 512))\n",
    "    mosaico.paste(img1, (0, 0))\n",
    "    mosaico.paste(img2, (256, 0))\n",
    "    mosaico.paste(img3, (0, 256))\n",
    "    mosaico.paste(img4, (256, 256))\n",
    "\n",
    "    # Renombrar la imagen mosaico\n",
    "    mosaico.save(f'../Dataset/Mosaico/Imagenes/{i}.png')\n",
    "\n",
    "    # Agregar la imagen mosaico a la lista\n",
    "    mosaicos.append(f\"{i}.png\")\n"
   ]
  },
  {
   "cell_type": "code",
   "execution_count": 4,
   "metadata": {},
   "outputs": [
    {
     "data": {
      "text/html": [
       "<div>\n",
       "<style scoped>\n",
       "    .dataframe tbody tr th:only-of-type {\n",
       "        vertical-align: middle;\n",
       "    }\n",
       "\n",
       "    .dataframe tbody tr th {\n",
       "        vertical-align: top;\n",
       "    }\n",
       "\n",
       "    .dataframe thead th {\n",
       "        text-align: right;\n",
       "    }\n",
       "</style>\n",
       "<table border=\"1\" class=\"dataframe\">\n",
       "  <thead>\n",
       "    <tr style=\"text-align: right;\">\n",
       "      <th></th>\n",
       "      <th>bedrooms</th>\n",
       "      <th>bathrooms</th>\n",
       "      <th>area</th>\n",
       "      <th>zipcode</th>\n",
       "      <th>mosaic_image</th>\n",
       "      <th>price</th>\n",
       "    </tr>\n",
       "  </thead>\n",
       "  <tbody>\n",
       "    <tr>\n",
       "      <th>0</th>\n",
       "      <td>4</td>\n",
       "      <td>4</td>\n",
       "      <td>4053</td>\n",
       "      <td>85255</td>\n",
       "      <td>0.png</td>\n",
       "      <td>869500</td>\n",
       "    </tr>\n",
       "    <tr>\n",
       "      <th>1</th>\n",
       "      <td>4</td>\n",
       "      <td>3</td>\n",
       "      <td>3343</td>\n",
       "      <td>36372</td>\n",
       "      <td>1.png</td>\n",
       "      <td>865200</td>\n",
       "    </tr>\n",
       "    <tr>\n",
       "      <th>2</th>\n",
       "      <td>3</td>\n",
       "      <td>4</td>\n",
       "      <td>3923</td>\n",
       "      <td>85266</td>\n",
       "      <td>2.png</td>\n",
       "      <td>889000</td>\n",
       "    </tr>\n",
       "    <tr>\n",
       "      <th>3</th>\n",
       "      <td>5</td>\n",
       "      <td>5</td>\n",
       "      <td>4022</td>\n",
       "      <td>85262</td>\n",
       "      <td>3.png</td>\n",
       "      <td>910000</td>\n",
       "    </tr>\n",
       "    <tr>\n",
       "      <th>4</th>\n",
       "      <td>3</td>\n",
       "      <td>4</td>\n",
       "      <td>4116</td>\n",
       "      <td>85266</td>\n",
       "      <td>4.png</td>\n",
       "      <td>971226</td>\n",
       "    </tr>\n",
       "  </tbody>\n",
       "</table>\n",
       "</div>"
      ],
      "text/plain": [
       "  bedrooms bathrooms  area zipcode mosaic_image   price\n",
       "0        4         4  4053   85255        0.png  869500\n",
       "1        4         3  3343   36372        1.png  865200\n",
       "2        3         4  3923   85266        2.png  889000\n",
       "3        5         5  4022   85262        3.png  910000\n",
       "4        3         4  4116   85266        4.png  971226"
      ]
     },
     "execution_count": 4,
     "metadata": {},
     "output_type": "execute_result"
    }
   ],
   "source": [
    "# Agregar la columna de imágenes mosaico al DataFrame\n",
    "df['mosaic_image'] = mosaicos\n",
    "\n",
    "# Ordenar columnas del DataFrame\n",
    "df = df[['bedrooms', 'bathrooms', 'area', 'zipcode', 'mosaic_image', 'price']]\n",
    "\n",
    "# Imprimir el DataFrame\n",
    "df.head()"
   ]
  },
  {
   "cell_type": "markdown",
   "metadata": {},
   "source": [
    "## Crear dataset de entrenamiento y prueba"
   ]
  },
  {
   "cell_type": "code",
   "execution_count": 6,
   "metadata": {},
   "outputs": [
    {
     "name": "stdout",
     "output_type": "stream",
     "text": [
      "Train: (481, 6)\n",
      "Test: (54, 6)\n"
     ]
    }
   ],
   "source": [
    "from sklearn.model_selection import train_test_split\n",
    "\n",
    "# --> Dividir dataset\n",
    "X_train, X_test, y_train, y_test = train_test_split(df[['bathrooms','bedrooms','area','zipcode', 'mosaic_image']], df['price'], test_size=0.1, random_state=42)\n",
    "\n",
    "# --> Juntar X_train e y_train\n",
    "train = pd.concat([X_train, y_train], axis=1)\n",
    "\n",
    "# --> Juntar X_test e y_test\n",
    "test = pd.concat([X_test, y_test], axis=1)\n",
    "\n",
    "# Tamños de los datasets\n",
    "print(f\"Train: {train.shape}\")\n",
    "print(f\"Test: {test.shape}\")\n"
   ]
  },
  {
   "cell_type": "markdown",
   "metadata": {},
   "source": [
    "## Ver datos"
   ]
  },
  {
   "cell_type": "code",
   "execution_count": 8,
   "metadata": {},
   "outputs": [
    {
     "data": {
      "text/html": [
       "<div>\n",
       "<style scoped>\n",
       "    .dataframe tbody tr th:only-of-type {\n",
       "        vertical-align: middle;\n",
       "    }\n",
       "\n",
       "    .dataframe tbody tr th {\n",
       "        vertical-align: top;\n",
       "    }\n",
       "\n",
       "    .dataframe thead th {\n",
       "        text-align: right;\n",
       "    }\n",
       "</style>\n",
       "<table border=\"1\" class=\"dataframe\">\n",
       "  <thead>\n",
       "    <tr style=\"text-align: right;\">\n",
       "      <th></th>\n",
       "      <th>bathrooms</th>\n",
       "      <th>bedrooms</th>\n",
       "      <th>area</th>\n",
       "      <th>zipcode</th>\n",
       "      <th>mosaic_image</th>\n",
       "      <th>price</th>\n",
       "    </tr>\n",
       "  </thead>\n",
       "  <tbody>\n",
       "    <tr>\n",
       "      <th>78</th>\n",
       "      <td>2</td>\n",
       "      <td>4</td>\n",
       "      <td>7841</td>\n",
       "      <td>60016</td>\n",
       "      <td>78.png</td>\n",
       "      <td>299000</td>\n",
       "    </tr>\n",
       "    <tr>\n",
       "      <th>70</th>\n",
       "      <td>2.5</td>\n",
       "      <td>3</td>\n",
       "      <td>3233</td>\n",
       "      <td>62234</td>\n",
       "      <td>70.png</td>\n",
       "      <td>259000</td>\n",
       "    </tr>\n",
       "    <tr>\n",
       "      <th>204</th>\n",
       "      <td>1</td>\n",
       "      <td>2</td>\n",
       "      <td>1110</td>\n",
       "      <td>94501</td>\n",
       "      <td>204.png</td>\n",
       "      <td>649000</td>\n",
       "    </tr>\n",
       "    <tr>\n",
       "      <th>72</th>\n",
       "      <td>3</td>\n",
       "      <td>4</td>\n",
       "      <td>2256</td>\n",
       "      <td>62214</td>\n",
       "      <td>72.png</td>\n",
       "      <td>144900</td>\n",
       "    </tr>\n",
       "    <tr>\n",
       "      <th>287</th>\n",
       "      <td>2</td>\n",
       "      <td>2</td>\n",
       "      <td>2036</td>\n",
       "      <td>92276</td>\n",
       "      <td>287.png</td>\n",
       "      <td>175000</td>\n",
       "    </tr>\n",
       "  </tbody>\n",
       "</table>\n",
       "</div>"
      ],
      "text/plain": [
       "    bathrooms bedrooms  area zipcode mosaic_image   price\n",
       "78          2        4  7841   60016       78.png  299000\n",
       "70        2.5        3  3233   62234       70.png  259000\n",
       "204         1        2  1110   94501      204.png  649000\n",
       "72          3        4  2256   62214       72.png  144900\n",
       "287         2        2  2036   92276      287.png  175000"
      ]
     },
     "execution_count": 8,
     "metadata": {},
     "output_type": "execute_result"
    }
   ],
   "source": [
    "train.head()"
   ]
  },
  {
   "cell_type": "markdown",
   "metadata": {},
   "source": [
    "## Exportar datos"
   ]
  },
  {
   "cell_type": "code",
   "execution_count": 9,
   "metadata": {},
   "outputs": [],
   "source": [
    "df.to_csv('../Dataset/Mosaico/dataset.csv', index=False)\n",
    "\n",
    "train.to_csv('../Dataset/Mosaico/train.csv', index=False)\n",
    "test.to_csv('../Dataset/Mosaico/test.csv', index=False)"
   ]
  }
 ],
 "metadata": {
  "kernelspec": {
   "display_name": "Python 3",
   "language": "python",
   "name": "python3"
  },
  "language_info": {
   "codemirror_mode": {
    "name": "ipython",
    "version": 3
   },
   "file_extension": ".py",
   "mimetype": "text/x-python",
   "name": "python",
   "nbconvert_exporter": "python",
   "pygments_lexer": "ipython3",
   "version": "3.11.8"
  }
 },
 "nbformat": 4,
 "nbformat_minor": 2
}
