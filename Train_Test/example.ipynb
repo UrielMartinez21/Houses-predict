{
 "cells": [
  {
   "cell_type": "code",
   "execution_count": 3,
   "metadata": {},
   "outputs": [
    {
     "name": "stdout",
     "output_type": "stream",
     "text": [
      "(200, 200)\n"
     ]
    }
   ],
   "source": [
    "# Leer imagen y mostrarla en pantalla\n",
    "import os\n",
    "from PIL import Image\n",
    "\n",
    "ruta = \"../Dataset/Houses-dataset/Houses Dataset/\"\n",
    "imagen = \"1_bathroom.jpg\"\n",
    "\n",
    "# Cargar imagen\n",
    "img = Image.open(os.path.join(ruta, imagen))\n",
    "\n",
    "# Redimensionar imagen\n",
    "img = img.resize((200, 200))"
   ]
  },
  {
   "cell_type": "code",
   "execution_count": null,
   "metadata": {},
   "outputs": [],
   "source": []
  }
 ],
 "metadata": {
  "kernelspec": {
   "display_name": ".venv",
   "language": "python",
   "name": "python3"
  },
  "language_info": {
   "codemirror_mode": {
    "name": "ipython",
    "version": 3
   },
   "file_extension": ".py",
   "mimetype": "text/x-python",
   "name": "python",
   "nbconvert_exporter": "python",
   "pygments_lexer": "ipython3",
   "version": "3.11.8"
  }
 },
 "nbformat": 4,
 "nbformat_minor": 2
}
