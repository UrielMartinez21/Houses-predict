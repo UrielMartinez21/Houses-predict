{
 "cells": [
  {
   "cell_type": "code",
   "execution_count": 1,
   "metadata": {},
   "outputs": [
    {
     "name": "stderr",
     "output_type": "stream",
     "text": [
      "c:\\Users\\uriel\\OneDrive\\Escritorio\\Uriel\\IPN\\ESCOM\\TT\\Codigo\\my_code\\.venv\\Lib\\site-packages\\torchvision\\models\\_utils.py:208: UserWarning: The parameter 'pretrained' is deprecated since 0.13 and may be removed in the future, please use 'weights' instead.\n",
      "  warnings.warn(\n",
      "c:\\Users\\uriel\\OneDrive\\Escritorio\\Uriel\\IPN\\ESCOM\\TT\\Codigo\\my_code\\.venv\\Lib\\site-packages\\torchvision\\models\\_utils.py:223: UserWarning: Arguments other than a weight enum or `None` for 'weights' are deprecated since 0.13 and may be removed in the future. The current behavior is equivalent to passing `weights=ResNet50_Weights.IMAGENET1K_V1`. You can also use `weights=ResNet50_Weights.DEFAULT` to get the most up-to-date weights.\n",
      "  warnings.warn(msg)\n",
      "Downloading: \"https://download.pytorch.org/models/resnet50-0676ba61.pth\" to C:\\Users\\uriel/.cache\\torch\\hub\\checkpoints\\resnet50-0676ba61.pth\n",
      "100.0%\n"
     ]
    }
   ],
   "source": [
    "import torch\n",
    "from torchvision import models, transforms\n",
    "from PIL import Image\n",
    "\n",
    "# Cargar el modelo preentrenado ResNet50\n",
    "model = models.resnet50(pretrained=True)\n",
    "\n",
    "# Desactivar la parte final de clasificación del modelo para obtener solo las características\n",
    "model = torch.nn.Sequential(*list(model.children())[:-1])\n",
    "\n",
    "# Asegurarte de que el modelo está en modo de evaluación\n",
    "model.eval()\n",
    "\n",
    "# Transformaciones que necesitamos aplicar a la imagen antes de alimentarla al modelo\n",
    "preprocess = transforms.Compose([\n",
    "    transforms.Resize(256),\n",
    "    transforms.CenterCrop(224),\n",
    "    transforms.ToTensor(),\n",
    "    transforms.Normalize(mean=[0.485, 0.456, 0.406], std=[0.229, 0.224, 0.225]),\n",
    "])\n"
   ]
  },
  {
   "cell_type": "code",
   "execution_count": 2,
   "metadata": {},
   "outputs": [],
   "source": [
    "# Cargar la imagen\n",
    "img_path = '../Dataset/Mosaico/Imagenes/0.png'\n",
    "img = Image.open(img_path)\n",
    "\n",
    "# Aplicar las transformaciones\n",
    "img_tensor = preprocess(img)\n",
    "\n",
    "# Agregar una dimensión extra para simular un batch de tamaño 1\n",
    "img_tensor = img_tensor.unsqueeze(0)\n"
   ]
  },
  {
   "cell_type": "code",
   "execution_count": 4,
   "metadata": {},
   "outputs": [
    {
     "name": "stdout",
     "output_type": "stream",
     "text": [
      "(2048,)\n",
      "[0.02751848 0.27733636 1.1243905  ... 0.05147522 0.8565478  0.6884415 ]\n"
     ]
    }
   ],
   "source": [
    "with torch.no_grad():  # Desactivar gradientes porque solo queremos hacer inferencias\n",
    "    features = model(img_tensor)\n",
    "\n",
    "# Las características estarán en un tensor, puedes convertirlas en un array NumPy\n",
    "features = features.squeeze().numpy()\n",
    "print(features.shape)\n",
    "print(features)\n"
   ]
  }
 ],
 "metadata": {
  "kernelspec": {
   "display_name": ".venv",
   "language": "python",
   "name": "python3"
  },
  "language_info": {
   "codemirror_mode": {
    "name": "ipython",
    "version": 3
   },
   "file_extension": ".py",
   "mimetype": "text/x-python",
   "name": "python",
   "nbconvert_exporter": "python",
   "pygments_lexer": "ipython3",
   "version": "3.11.8"
  }
 },
 "nbformat": 4,
 "nbformat_minor": 2
}
